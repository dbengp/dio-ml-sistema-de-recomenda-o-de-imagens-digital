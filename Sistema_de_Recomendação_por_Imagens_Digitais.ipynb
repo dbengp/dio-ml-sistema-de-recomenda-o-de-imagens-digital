{
  "cells": [
    {
      "cell_type": "markdown",
      "metadata": {
        "id": "view-in-github",
        "colab_type": "text"
      },
      "source": [
        "<a href=\"https://colab.research.google.com/github/dbengp/dio-ml-sistema-de-recomenda-o-de-imagens-digital/blob/main/Sistema_de_Recomenda%C3%A7%C3%A3o_por_Imagens_Digitais.ipynb\" target=\"_parent\"><img src=\"https://colab.research.google.com/assets/colab-badge.svg\" alt=\"Open In Colab\"/></a>"
      ]
    },
    {
      "cell_type": "markdown",
      "metadata": {
        "id": "Sep583oeC1k-"
      },
      "source": [
        "# Sistema de Recomendação por Imagens - DIO"
      ]
    },
    {
      "cell_type": "markdown",
      "metadata": {
        "id": "HMBYaUhyC5wb"
      },
      "source": [
        "1. Configura-se o ambiente no Colab"
      ]
    },
    {
      "cell_type": "code",
      "source": [
        "!pip install tensorflow keras numpy matplotlib\n",
        "\n",
        "import tensorflow as tf\n",
        "from tensorflow.keras.applications import ResNet50\n",
        "from tensorflow.keras.applications.resnet50 import preprocess_input\n",
        "from tensorflow.keras.preprocessing import image\n",
        "from tensorflow.keras.models import Model\n",
        "from sklearn.neighbors import NearestNeighbors\n",
        "import numpy as np\n",
        "import matplotlib.pyplot as plt\n",
        "import os\n",
        "import cv2"
      ],
      "metadata": {
        "id": "eTfIQKV-TZOD"
      },
      "execution_count": null,
      "outputs": []
    },
    {
      "cell_type": "markdown",
      "metadata": {
        "id": "KXD9g37hC18o"
      },
      "source": [
        "2. Prossegue-se com o carregamento e pré-processamento dos Dados"
      ]
    },
    {
      "cell_type": "code",
      "source": [
        "# Carregar o dataset CIFAR-10 (ou Fashion MNIST)\n",
        "from tensorflow.keras.datasets import cifar10\n",
        "\n",
        "# Carregar e dividir os dados\n",
        "(x_train, y_train), (x_test, y_test) = cifar10.load_data()\n",
        "\n",
        "# Normalizar as imagens (valores entre 0 e 1)\n",
        "x_train = x_train.astype('float32') / 255.0\n",
        "x_test = x_test.astype('float32') / 255.0\n",
        "\n",
        "# Exibir algumas imagens\n",
        "plt.figure(figsize=(10, 10))\n",
        "for i in range(9):\n",
        "    plt.subplot(3, 3, i + 1)\n",
        "    plt.imshow(x_train[i])\n",
        "    plt.axis('off')\n",
        "plt.show()"
      ],
      "metadata": {
        "id": "xI_jxyKJTfv1"
      },
      "execution_count": null,
      "outputs": []
    },
    {
      "cell_type": "markdown",
      "metadata": {
        "id": "4kn7GzthC2SY"
      },
      "source": [
        "3. Prossegue-se com a extração de características com uma CNN Pré-treinada"
      ]
    },
    {
      "cell_type": "code",
      "source": [
        "base_model = ResNet50(weights='imagenet', include_top=False, pooling='avg')\n",
        "\n",
        "embedding_model = Model(inputs=base_model.input, outputs=base_model.output)\n",
        "\n",
        "# Função para gerar embeddings\n",
        "def get_embedding(img):\n",
        "    img = cv2.resize(img, (224, 224))\n",
        "    img = np.expand_dims(img, axis=0)\n",
        "    img = preprocess_input(img)\n",
        "    embedding = embedding_model.predict(img)\n",
        "    return embedding.flatten()\n",
        "\n",
        "train_embeddings = np.array([get_embedding(img) for img in x_train])"
      ],
      "metadata": {
        "id": "-QIgI5OaTmtb"
      },
      "execution_count": null,
      "outputs": []
    },
    {
      "cell_type": "markdown",
      "metadata": {
        "id": "X0ipJHGRC2ox"
      },
      "source": [
        "4.Treina-se o Modelo de Similaridade"
      ]
    },
    {
      "cell_type": "code",
      "source": [
        "neighbors_model = NearestNeighbors(n_neighbors=5, metric='cosine')\n",
        "neighbors_model.fit(train_embeddings)\n",
        "\n",
        "# Função para encontrar imagens similares\n",
        "def find_similar_images(query_img, top_k=5):\n",
        "    query_embedding = get_embedding(query_img)\n",
        "    distances, indices = neighbors_model.kneighbors([query_embedding], n_neighbors=top_k)\n",
        "    return distances, indices\n",
        "\n",
        "query_img = x_test[0]\n",
        "distances, indices = find_similar_images(query_img)\n",
        "\n",
        "# Exibir a imagem de consulta\n",
        "plt.figure(figsize=(15, 5))\n",
        "plt.subplot(1, 6, 1)\n",
        "plt.imshow(query_img)\n",
        "plt.title(\"Consulta\")\n",
        "plt.axis('off')\n",
        "\n",
        "for i, idx in enumerate(indices[0]):\n",
        "    plt.subplot(1, 6, i + 2)\n",
        "    plt.imshow(x_train[idx])\n",
        "    plt.title(f\"Similar {i+1}\")\n",
        "    plt.axis('off')\n",
        "plt.show()"
      ],
      "metadata": {
        "id": "QBfQOmM_TsEw"
      },
      "execution_count": null,
      "outputs": []
    },
    {
      "cell_type": "markdown",
      "metadata": {
        "id": "_TZLGno4C2-1"
      },
      "source": [
        "5. Segue-se com a avaliação do Sistema"
      ]
    },
    {
      "cell_type": "code",
      "execution_count": null,
      "metadata": {
        "colab": {
          "background_save": true
        },
        "id": "CoR7c-SNC3J5"
      },
      "outputs": [],
      "source": [
        "query_img = x_test[10]\n",
        "distances, indices = find_similar_images(query_img)\n",
        "\n",
        "plt.figure(figsize=(15, 5))\n",
        "plt.subplot(1, 6, 1)\n",
        "plt.imshow(query_img)\n",
        "plt.title(\"Consulta\")\n",
        "plt.axis('off')\n",
        "\n",
        "for i, idx in enumerate(indices[0]):\n",
        "    plt.subplot(1, 6, i + 2)\n",
        "    plt.imshow(x_train[idx])\n",
        "    plt.title(f\"Similar {i+1}\")\n",
        "    plt.axis('off')\n",
        "plt.show()"
      ]
    }
  ],
  "metadata": {
    "colab": {
      "provenance": [],
      "authorship_tag": "ABX9TyOfsRUsFg16lmWtbpQ/bzgM",
      "include_colab_link": true
    },
    "kernelspec": {
      "display_name": "Python 3",
      "name": "python3"
    },
    "language_info": {
      "name": "python"
    }
  },
  "nbformat": 4,
  "nbformat_minor": 0
}